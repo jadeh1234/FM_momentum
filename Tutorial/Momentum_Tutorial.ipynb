{
 "cells": [
  {
   "cell_type": "markdown",
   "id": "77a7fd99",
   "metadata": {},
   "source": [
    "---\n",
    "# Tutorial Task: Sentiment-Based Quant Strategy\n",
    "---"
   ]
  },
  {
   "cell_type": "markdown",
   "id": "44b20d11",
   "metadata": {},
   "source": [
    "In this tutorial, you will design and implement a **quantitative trading strategy** that makes trading decisions based on **news sentiment** for a selected group of 3 stocks."
   ]
  },
  {
   "cell_type": "markdown",
   "id": "e3e0a326",
   "metadata": {},
   "source": [
    "## Objective\n",
    "\n",
    "Each day, over a 1-week historical period:\n",
    "- **Buy** (go long) the stock with the **most positive** news sentiment\n",
    "- **Sell** (go short) the stock with the **most negative** news sentiment\n",
    "\n",
    "You will:\n",
    "1. Select your own **universe of 3 stocks** (e.g., AAPL, BRK-B, DNUT, MSFT, GOOGL, AMZN, TSLA).\n",
    "2. Use the provided News API to retrieve articles for each stock.\n",
    "3. Calculate the **average sentiment** for each stock daily using tools like `TextBlob`.\n",
    "4. Track your portfolio’s value over time by simulating simple returns.\n",
    "5. Plot your portfolio value and analyze strategy performance.\n",
    "\n",
    "## Constraints\n",
    "\n",
    "- The News API is limited to **100 requests per day**. Avoid excessive API calls while developing by storing data or limiting requests.\n",
    "- You only trade **one long and one short position** per day.\n",
    "- Keep it simple: assume equal capital allocation to long and short trades.\n"
   ]
  },
  {
   "cell_type": "markdown",
   "id": "3cd603bd",
   "metadata": {},
   "source": [
    "## Step 1:\n",
    "Import relevant libraries"
   ]
  },
  {
   "cell_type": "code",
   "execution_count": 12,
   "id": "8d8d2f86",
   "metadata": {},
   "outputs": [],
   "source": [
    "# Data analysis\n",
    "import pandas as pd\n",
    "import numpy as np\n",
    "\n",
    "# API calls\n",
    "import requests\n",
    "\n",
    "# Sentiment analysis\n",
    "from textblob import TextBlob\n",
    "\n",
    "# Time arithmetic\n",
    "from datetime import datetime, timedelta\n",
    "\n",
    "# Plotting\n",
    "import matplotlib.pyplot as plt\n",
    "\n",
    "# Financial data\n",
    "import yfinance as yf"
   ]
  },
  {
   "cell_type": "markdown",
   "id": "b87ffccc",
   "metadata": {},
   "source": [
    "## Step 2:\n",
    "Configure your API\n",
    "\n",
    "https://newsapi.org/"
   ]
  },
  {
   "cell_type": "code",
   "execution_count": 13,
   "id": "6d3853f1",
   "metadata": {},
   "outputs": [],
   "source": [
    "# Information to call API\n",
    "API_KEY = '1226552a5e9e4c9aa1b5069d81b21523'  # Replace with your actual key\n",
    "BASE_URL = 'https://newsapi.org/v2/everything'"
   ]
  },
  {
   "cell_type": "markdown",
   "id": "3835f924",
   "metadata": {},
   "source": [
    "## Step 3:\n",
    "Create a function to get news and calculate the sentiment"
   ]
  },
  {
   "cell_type": "code",
   "execution_count": 14,
   "id": "2a4dad13",
   "metadata": {},
   "outputs": [
    {
     "name": "stdout",
     "output_type": "stream",
     "text": [
      "0.7500000000000001\n",
      "0.5\n",
      "-0.6999999999999998\n",
      "0.0\n"
     ]
    }
   ],
   "source": [
    "# We use TextBlob() to calculate sentiment - show students an example:\n",
    "\n",
    "print(TextBlob(\"This stock is amazing!\").sentiment.polarity)  # ➝ ~0.8 to 1.0 (positive)\n",
    "print(TextBlob(\"This stock is okay.\").sentiment.polarity)     # ➝ ~0.2 (slightly positive)\n",
    "print(TextBlob(\"This stock is bad.\").sentiment.polarity)      # ➝ ~-0.7 (negative)\n",
    "print(TextBlob(\"This is a stock.\").sentiment.polarity)    "
   ]
  },
  {
   "cell_type": "code",
   "execution_count": 15,
   "id": "befc9c98",
   "metadata": {},
   "outputs": [
    {
     "name": "stdout",
     "output_type": "stream",
     "text": [
      "{'status': 'error', 'code': 'rateLimited', 'message': 'You have made too many requests recently. Developer accounts are limited to 100 requests over a 24 hour period (50 requests available every 12 hours). Please upgrade to a paid plan if you need more requests.'}\n"
     ]
    }
   ],
   "source": [
    "# We make a function to call the API and get the sentiment of a stock over a day\n",
    "def get_sentiment(stock, date):\n",
    "    from_date = date.strftime('%Y-%m-%d')\n",
    "    to_date = (date + timedelta(days=1)).strftime('%Y-%m-%d')\n",
    "\n",
    "    params = {\n",
    "        'q': stock,\n",
    "        'from': from_date,\n",
    "        'to': to_date,\n",
    "        'sortBy': 'relevancy',\n",
    "        'apiKey': API_KEY,\n",
    "        'language': 'en',\n",
    "        'pageSize': 5\n",
    "    }\n",
    "\n",
    "    # Call API with the relevant stock and dates\n",
    "    response = requests.get(BASE_URL, params=params)\n",
    "    data = response.json() # response in a .json format\n",
    "    \n",
    "    print(data)\n",
    "\n",
    "    sentiments = []\n",
    "    for article in data.get('articles', []):\n",
    "        title = article.get('title', '')\n",
    "        description = article.get('description', '')\n",
    "        \n",
    "        if not title and not description:\n",
    "            continue  # skip if both are missing\n",
    "        \n",
    "        text = f\"{title} {description}\"\n",
    "        # Get sentiment of text\n",
    "        sentiment = TextBlob(text).sentiment.polarity\n",
    "        sentiments.append(sentiment)\n",
    "\n",
    "    if sentiments:\n",
    "        mean = np.mean(sentiments)\n",
    "        print(mean)\n",
    "        return mean # return the mean sentiment of the stock over the day\n",
    "    return None\n",
    "    \n",
    "get_sentiment('AAPL', datetime(2025, 5, 5))\n"
   ]
  },
  {
   "cell_type": "markdown",
   "id": "ff7b26c7",
   "metadata": {},
   "source": [
    "## Step 4:\n",
    "Simulate Trading by Backtesting"
   ]
  },
  {
   "cell_type": "code",
   "execution_count": 17,
   "id": "3ed1b70b",
   "metadata": {},
   "outputs": [],
   "source": [
    "def gather_daily_sentiments(stocks, start_date, end_date):\n",
    "    \"\"\"\n",
    "    For each date in [start_date, end_date], calls get_sentiment(stock, date)\n",
    "    and returns a DataFrame of shape (n_dates × n_stocks) of daily polarity.\n",
    "    \"\"\"\n",
    "    dates = pd.date_range(start_date, end_date)\n",
    "    # initialize an empty DataFrame\n",
    "    sentiments = pd.DataFrame(index=dates, columns=stocks, dtype=float)\n",
    "\n",
    "    for date in dates:\n",
    "        for stock in stocks:\n",
    "                sentiments.at[date, stock] = get_sentiment(stock, date)\n",
    "    return sentiments\n",
    "\n",
    "def fetch_price_data(stocks, start_date, end_date):\n",
    "    \"\"\"\n",
    "    Downloads daily OHLC data for each ticker in `stocks` between start_date and end_date.\n",
    "    Returns a dict mapping ticker → its DataFrame.\n",
    "    \"\"\"\n",
    "    price_data = {}\n",
    "    for stock in stocks:\n",
    "        df = yf.download(\n",
    "            stock,\n",
    "            start=start_date.strftime('%Y-%m-%d'),\n",
    "            end=(end_date + timedelta(days=1)).strftime('%Y-%m-%d'),\n",
    "            interval='1d',\n",
    "            progress=False\n",
    "        )\n",
    "        price_data[stock] = df[['Open', 'Close']]  # keep only what is needed\n",
    "    return price_data"
   ]
  },
  {
   "cell_type": "code",
   "execution_count": 18,
   "id": "12e00fd3",
   "metadata": {},
   "outputs": [
    {
     "name": "stdout",
     "output_type": "stream",
     "text": [
      "{'status': 'error', 'code': 'rateLimited', 'message': 'You have made too many requests recently. Developer accounts are limited to 100 requests over a 24 hour period (50 requests available every 12 hours). Please upgrade to a paid plan if you need more requests.'}\n",
      "{'status': 'error', 'code': 'rateLimited', 'message': 'You have made too many requests recently. Developer accounts are limited to 100 requests over a 24 hour period (50 requests available every 12 hours). Please upgrade to a paid plan if you need more requests.'}\n",
      "{'status': 'error', 'code': 'rateLimited', 'message': 'You have made too many requests recently. Developer accounts are limited to 100 requests over a 24 hour period (50 requests available every 12 hours). Please upgrade to a paid plan if you need more requests.'}\n",
      "{'status': 'error', 'code': 'rateLimited', 'message': 'You have made too many requests recently. Developer accounts are limited to 100 requests over a 24 hour period (50 requests available every 12 hours). Please upgrade to a paid plan if you need more requests.'}\n",
      "{'status': 'error', 'code': 'rateLimited', 'message': 'You have made too many requests recently. Developer accounts are limited to 100 requests over a 24 hour period (50 requests available every 12 hours). Please upgrade to a paid plan if you need more requests.'}\n",
      "{'status': 'error', 'code': 'rateLimited', 'message': 'You have made too many requests recently. Developer accounts are limited to 100 requests over a 24 hour period (50 requests available every 12 hours). Please upgrade to a paid plan if you need more requests.'}\n",
      "{'status': 'error', 'code': 'rateLimited', 'message': 'You have made too many requests recently. Developer accounts are limited to 100 requests over a 24 hour period (50 requests available every 12 hours). Please upgrade to a paid plan if you need more requests.'}\n",
      "{'status': 'error', 'code': 'rateLimited', 'message': 'You have made too many requests recently. Developer accounts are limited to 100 requests over a 24 hour period (50 requests available every 12 hours). Please upgrade to a paid plan if you need more requests.'}\n",
      "{'status': 'error', 'code': 'rateLimited', 'message': 'You have made too many requests recently. Developer accounts are limited to 100 requests over a 24 hour period (50 requests available every 12 hours). Please upgrade to a paid plan if you need more requests.'}\n",
      "{'status': 'error', 'code': 'rateLimited', 'message': 'You have made too many requests recently. Developer accounts are limited to 100 requests over a 24 hour period (50 requests available every 12 hours). Please upgrade to a paid plan if you need more requests.'}\n",
      "{'status': 'error', 'code': 'rateLimited', 'message': 'You have made too many requests recently. Developer accounts are limited to 100 requests over a 24 hour period (50 requests available every 12 hours). Please upgrade to a paid plan if you need more requests.'}\n",
      "{'status': 'error', 'code': 'rateLimited', 'message': 'You have made too many requests recently. Developer accounts are limited to 100 requests over a 24 hour period (50 requests available every 12 hours). Please upgrade to a paid plan if you need more requests.'}\n",
      "{'status': 'error', 'code': 'rateLimited', 'message': 'You have made too many requests recently. Developer accounts are limited to 100 requests over a 24 hour period (50 requests available every 12 hours). Please upgrade to a paid plan if you need more requests.'}\n",
      "{'status': 'error', 'code': 'rateLimited', 'message': 'You have made too many requests recently. Developer accounts are limited to 100 requests over a 24 hour period (50 requests available every 12 hours). Please upgrade to a paid plan if you need more requests.'}\n",
      "{'status': 'error', 'code': 'rateLimited', 'message': 'You have made too many requests recently. Developer accounts are limited to 100 requests over a 24 hour period (50 requests available every 12 hours). Please upgrade to a paid plan if you need more requests.'}\n",
      "{'status': 'error', 'code': 'rateLimited', 'message': 'You have made too many requests recently. Developer accounts are limited to 100 requests over a 24 hour period (50 requests available every 12 hours). Please upgrade to a paid plan if you need more requests.'}\n",
      "{'status': 'error', 'code': 'rateLimited', 'message': 'You have made too many requests recently. Developer accounts are limited to 100 requests over a 24 hour period (50 requests available every 12 hours). Please upgrade to a paid plan if you need more requests.'}\n",
      "{'status': 'error', 'code': 'rateLimited', 'message': 'You have made too many requests recently. Developer accounts are limited to 100 requests over a 24 hour period (50 requests available every 12 hours). Please upgrade to a paid plan if you need more requests.'}\n",
      "{'status': 'error', 'code': 'rateLimited', 'message': 'You have made too many requests recently. Developer accounts are limited to 100 requests over a 24 hour period (50 requests available every 12 hours). Please upgrade to a paid plan if you need more requests.'}\n",
      "{'status': 'error', 'code': 'rateLimited', 'message': 'You have made too many requests recently. Developer accounts are limited to 100 requests over a 24 hour period (50 requests available every 12 hours). Please upgrade to a paid plan if you need more requests.'}\n",
      "{'status': 'error', 'code': 'rateLimited', 'message': 'You have made too many requests recently. Developer accounts are limited to 100 requests over a 24 hour period (50 requests available every 12 hours). Please upgrade to a paid plan if you need more requests.'}\n",
      "{'status': 'error', 'code': 'rateLimited', 'message': 'You have made too many requests recently. Developer accounts are limited to 100 requests over a 24 hour period (50 requests available every 12 hours). Please upgrade to a paid plan if you need more requests.'}\n",
      "{'status': 'error', 'code': 'rateLimited', 'message': 'You have made too many requests recently. Developer accounts are limited to 100 requests over a 24 hour period (50 requests available every 12 hours). Please upgrade to a paid plan if you need more requests.'}\n",
      "{'status': 'error', 'code': 'rateLimited', 'message': 'You have made too many requests recently. Developer accounts are limited to 100 requests over a 24 hour period (50 requests available every 12 hours). Please upgrade to a paid plan if you need more requests.'}\n",
      "{'status': 'error', 'code': 'rateLimited', 'message': 'You have made too many requests recently. Developer accounts are limited to 100 requests over a 24 hour period (50 requests available every 12 hours). Please upgrade to a paid plan if you need more requests.'}\n",
      "{'status': 'error', 'code': 'rateLimited', 'message': 'You have made too many requests recently. Developer accounts are limited to 100 requests over a 24 hour period (50 requests available every 12 hours). Please upgrade to a paid plan if you need more requests.'}\n",
      "{'status': 'error', 'code': 'rateLimited', 'message': 'You have made too many requests recently. Developer accounts are limited to 100 requests over a 24 hour period (50 requests available every 12 hours). Please upgrade to a paid plan if you need more requests.'}\n",
      "{'status': 'error', 'code': 'rateLimited', 'message': 'You have made too many requests recently. Developer accounts are limited to 100 requests over a 24 hour period (50 requests available every 12 hours). Please upgrade to a paid plan if you need more requests.'}\n",
      "{'status': 'error', 'code': 'rateLimited', 'message': 'You have made too many requests recently. Developer accounts are limited to 100 requests over a 24 hour period (50 requests available every 12 hours). Please upgrade to a paid plan if you need more requests.'}\n",
      "{'status': 'error', 'code': 'rateLimited', 'message': 'You have made too many requests recently. Developer accounts are limited to 100 requests over a 24 hour period (50 requests available every 12 hours). Please upgrade to a paid plan if you need more requests.'}\n",
      "{'status': 'error', 'code': 'rateLimited', 'message': 'You have made too many requests recently. Developer accounts are limited to 100 requests over a 24 hour period (50 requests available every 12 hours). Please upgrade to a paid plan if you need more requests.'}\n",
      "{'status': 'error', 'code': 'rateLimited', 'message': 'You have made too many requests recently. Developer accounts are limited to 100 requests over a 24 hour period (50 requests available every 12 hours). Please upgrade to a paid plan if you need more requests.'}\n",
      "{'status': 'error', 'code': 'rateLimited', 'message': 'You have made too many requests recently. Developer accounts are limited to 100 requests over a 24 hour period (50 requests available every 12 hours). Please upgrade to a paid plan if you need more requests.'}\n",
      "{'status': 'error', 'code': 'rateLimited', 'message': 'You have made too many requests recently. Developer accounts are limited to 100 requests over a 24 hour period (50 requests available every 12 hours). Please upgrade to a paid plan if you need more requests.'}\n",
      "{'status': 'error', 'code': 'rateLimited', 'message': 'You have made too many requests recently. Developer accounts are limited to 100 requests over a 24 hour period (50 requests available every 12 hours). Please upgrade to a paid plan if you need more requests.'}\n",
      "{'status': 'error', 'code': 'rateLimited', 'message': 'You have made too many requests recently. Developer accounts are limited to 100 requests over a 24 hour period (50 requests available every 12 hours). Please upgrade to a paid plan if you need more requests.'}\n",
      "YF.download() has changed argument auto_adjust default to True\n"
     ]
    },
    {
     "name": "stderr",
     "output_type": "stream",
     "text": [
      "/workspaces/FM_momentum/Tutorial/momentum_functions.py:36: FutureWarning: The behavior of Series.idxmax with all-NA values, or any-NA and skipna=False, is deprecated. In a future version this will raise ValueError\n",
      "  long_tkr   = scores.idxmax()\n",
      "/workspaces/FM_momentum/Tutorial/momentum_functions.py:37: FutureWarning: The behavior of Series.idxmin with all-NA values, or any-NA and skipna=False, is deprecated. In a future version this will raise ValueError\n",
      "  short_tkr  = scores.idxmin()\n",
      "/workspaces/FM_momentum/Tutorial/momentum_functions.py:36: FutureWarning: The behavior of Series.idxmax with all-NA values, or any-NA and skipna=False, is deprecated. In a future version this will raise ValueError\n",
      "  long_tkr   = scores.idxmax()\n",
      "/workspaces/FM_momentum/Tutorial/momentum_functions.py:37: FutureWarning: The behavior of Series.idxmin with all-NA values, or any-NA and skipna=False, is deprecated. In a future version this will raise ValueError\n",
      "  short_tkr  = scores.idxmin()\n",
      "/workspaces/FM_momentum/Tutorial/momentum_functions.py:36: FutureWarning: The behavior of Series.idxmax with all-NA values, or any-NA and skipna=False, is deprecated. In a future version this will raise ValueError\n",
      "  long_tkr   = scores.idxmax()\n",
      "/workspaces/FM_momentum/Tutorial/momentum_functions.py:37: FutureWarning: The behavior of Series.idxmin with all-NA values, or any-NA and skipna=False, is deprecated. In a future version this will raise ValueError\n",
      "  short_tkr  = scores.idxmin()\n",
      "/workspaces/FM_momentum/Tutorial/momentum_functions.py:36: FutureWarning: The behavior of Series.idxmax with all-NA values, or any-NA and skipna=False, is deprecated. In a future version this will raise ValueError\n",
      "  long_tkr   = scores.idxmax()\n",
      "/workspaces/FM_momentum/Tutorial/momentum_functions.py:37: FutureWarning: The behavior of Series.idxmin with all-NA values, or any-NA and skipna=False, is deprecated. In a future version this will raise ValueError\n",
      "  short_tkr  = scores.idxmin()\n",
      "/workspaces/FM_momentum/Tutorial/momentum_functions.py:36: FutureWarning: The behavior of Series.idxmax with all-NA values, or any-NA and skipna=False, is deprecated. In a future version this will raise ValueError\n",
      "  long_tkr   = scores.idxmax()\n",
      "/workspaces/FM_momentum/Tutorial/momentum_functions.py:37: FutureWarning: The behavior of Series.idxmin with all-NA values, or any-NA and skipna=False, is deprecated. In a future version this will raise ValueError\n",
      "  short_tkr  = scores.idxmin()\n",
      "/workspaces/FM_momentum/Tutorial/momentum_functions.py:36: FutureWarning: The behavior of Series.idxmax with all-NA values, or any-NA and skipna=False, is deprecated. In a future version this will raise ValueError\n",
      "  long_tkr   = scores.idxmax()\n",
      "/workspaces/FM_momentum/Tutorial/momentum_functions.py:37: FutureWarning: The behavior of Series.idxmin with all-NA values, or any-NA and skipna=False, is deprecated. In a future version this will raise ValueError\n",
      "  short_tkr  = scores.idxmin()\n",
      "/workspaces/FM_momentum/Tutorial/momentum_functions.py:36: FutureWarning: The behavior of Series.idxmax with all-NA values, or any-NA and skipna=False, is deprecated. In a future version this will raise ValueError\n",
      "  long_tkr   = scores.idxmax()\n",
      "/workspaces/FM_momentum/Tutorial/momentum_functions.py:37: FutureWarning: The behavior of Series.idxmin with all-NA values, or any-NA and skipna=False, is deprecated. In a future version this will raise ValueError\n",
      "  short_tkr  = scores.idxmin()\n",
      "/workspaces/FM_momentum/Tutorial/momentum_functions.py:36: FutureWarning: The behavior of Series.idxmax with all-NA values, or any-NA and skipna=False, is deprecated. In a future version this will raise ValueError\n",
      "  long_tkr   = scores.idxmax()\n",
      "/workspaces/FM_momentum/Tutorial/momentum_functions.py:37: FutureWarning: The behavior of Series.idxmin with all-NA values, or any-NA and skipna=False, is deprecated. In a future version this will raise ValueError\n",
      "  short_tkr  = scores.idxmin()\n",
      "/workspaces/FM_momentum/Tutorial/momentum_functions.py:36: FutureWarning: The behavior of Series.idxmax with all-NA values, or any-NA and skipna=False, is deprecated. In a future version this will raise ValueError\n",
      "  long_tkr   = scores.idxmax()\n",
      "/workspaces/FM_momentum/Tutorial/momentum_functions.py:37: FutureWarning: The behavior of Series.idxmin with all-NA values, or any-NA and skipna=False, is deprecated. In a future version this will raise ValueError\n",
      "  short_tkr  = scores.idxmin()\n",
      "/workspaces/FM_momentum/Tutorial/momentum_functions.py:36: FutureWarning: The behavior of Series.idxmax with all-NA values, or any-NA and skipna=False, is deprecated. In a future version this will raise ValueError\n",
      "  long_tkr   = scores.idxmax()\n",
      "/workspaces/FM_momentum/Tutorial/momentum_functions.py:37: FutureWarning: The behavior of Series.idxmin with all-NA values, or any-NA and skipna=False, is deprecated. In a future version this will raise ValueError\n",
      "  short_tkr  = scores.idxmin()\n",
      "/workspaces/FM_momentum/Tutorial/momentum_functions.py:36: FutureWarning: The behavior of Series.idxmax with all-NA values, or any-NA and skipna=False, is deprecated. In a future version this will raise ValueError\n",
      "  long_tkr   = scores.idxmax()\n",
      "/workspaces/FM_momentum/Tutorial/momentum_functions.py:37: FutureWarning: The behavior of Series.idxmin with all-NA values, or any-NA and skipna=False, is deprecated. In a future version this will raise ValueError\n",
      "  short_tkr  = scores.idxmin()\n",
      "/workspaces/FM_momentum/Tutorial/momentum_functions.py:36: FutureWarning: The behavior of Series.idxmax with all-NA values, or any-NA and skipna=False, is deprecated. In a future version this will raise ValueError\n",
      "  long_tkr   = scores.idxmax()\n",
      "/workspaces/FM_momentum/Tutorial/momentum_functions.py:37: FutureWarning: The behavior of Series.idxmin with all-NA values, or any-NA and skipna=False, is deprecated. In a future version this will raise ValueError\n",
      "  short_tkr  = scores.idxmin()\n"
     ]
    }
   ],
   "source": [
    "# Define parameters for the API and functions\n",
    "START_DATE = pd.to_datetime('2025-04-28')\n",
    "END_DATE   = pd.to_datetime('2025-05-09')\n",
    "STOCK_UNIVERSE = ['AAPL','DNUT','BRK-B']\n",
    "\n",
    "# 1) get your sentiment surface\n",
    "sentiment_df = gather_daily_sentiments(STOCK_UNIVERSE, START_DATE, END_DATE)\n",
    "\n",
    "# 2) pull in all your price data\n",
    "price_dict   = fetch_price_data(STOCK_UNIVERSE, START_DATE, END_DATE)\n",
    "\n",
    "# now students will have have:\n",
    "# - sentiment_df.loc[date, stock] → polarity of the stock on that date\n",
    "# - price_dict[stock].loc[date, ['Open','Close']] → prices\n",
    "    \n",
    "    \n",
    "# Import backtesting functionality from python file (students will have this and to save time we will import it). We should run through it at a high level though.\n",
    "from momentum_functions import backtest_sentiment_strategy\n",
    "    \n",
    "    \n",
    "# Example usage:\n",
    "results = backtest_sentiment_strategy(sentiment_df, price_dict, init_capital=100000)"
   ]
  },
  {
   "cell_type": "markdown",
   "id": "3c88c049",
   "metadata": {},
   "source": [
    "## Step 5:\n",
    "Display results in ```matplotlib```"
   ]
  },
  {
   "cell_type": "code",
   "execution_count": 19,
   "id": "11bee3da",
   "metadata": {},
   "outputs": [
    {
     "data": {
      "image/png": "[encoded data removed]",
      "text/plain": [
       "<Figure size 1000x500 with 1 Axes>"
      ]
     },
     "metadata": {},
     "output_type": "display_data"
    }
   ],
   "source": [
    "# Plot the portfolio value\n",
    "plt.figure(figsize=(10, 5))\n",
    "plt.plot(results.index, results['portfolio_value'], marker='o', linewidth=2)\n",
    "plt.title('Sentiment-Based Strategy: Portfolio Value Over 2 Weeks')\n",
    "plt.xlabel('Date')\n",
    "plt.ylabel('Portfolio Value (USD)')\n",
    "plt.axhline(y=100000, color='r', linestyle='--', label='Initial Capital')\n",
    "plt.legend()\n",
    "plt.grid(True)\n",
    "plt.tight_layout()\n",
    "plt.show()"
   ]
  }
 ],
 "metadata": {
  "kernelspec": {
   "display_name": "Python 3",
   "language": "python",
   "name": "python3"
  },
  "language_info": {
   "codemirror_mode": {
    "name": "ipython",
    "version": 3
   },
   "file_extension": ".py",
   "mimetype": "text/x-python",
   "name": "python",
   "nbconvert_exporter": "python",
   "pygments_lexer": "ipython3",
   "version": "3.12.1"
  }
 },
 "nbformat": 4,
 "nbformat_minor": 5
}
